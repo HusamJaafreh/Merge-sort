{
 "cells": [
  {
   "cell_type": "code",
   "execution_count": 1,
   "id": "7638da3b",
   "metadata": {},
   "outputs": [],
   "source": [
    "def mergeSort(array):\n",
    "    size = len(array)\n",
    "    \n",
    "    # creating both left and right sides of the full array with their sizes\n",
    "    arrayL = array[:int(size/2)]\n",
    "    arrayR = array[int(size/2):]\n",
    "    lenL = len(arrayL)\n",
    "    lenR = len(arrayR)\n",
    "    \n",
    "    # recursion to split the array down to single cells\n",
    "    if lenL > 1:\n",
    "        arrayL = mergeSort(arrayL)\n",
    "    if lenR > 1:\n",
    "        arrayR = mergeSort(arrayR)\n",
    "    \n",
    "    # creating the array that will be returned\n",
    "    final = [None]*size\n",
    "    \n",
    "    # filling final array from both left and right arrays by comparing the smalles values from the left\n",
    "    # while both left and right arrays are not empty\n",
    "    i=j=k=0\n",
    "    while(i<lenL and j<lenR):\n",
    "        if arrayL[i]<=arrayR[j]:\n",
    "            final[k]=arrayL[i]\n",
    "            i+=1\n",
    "            \n",
    "        else:\n",
    "            final[k]=arrayR[j]\n",
    "            j+=1\n",
    "        k+=1\n",
    "            \n",
    "    # when one of them empties    \n",
    "    while(i<lenL):\n",
    "        final[k]=arrayL[i]\n",
    "        i+=1\n",
    "        k+=1\n",
    "        \n",
    "    while(j<lenR):\n",
    "        final[k]=arrayR[j]\n",
    "        j+=1\n",
    "        k+=1\n",
    "        \n",
    "    return final"
   ]
  },
  {
   "cell_type": "code",
   "execution_count": 2,
   "id": "ea9d9fb6",
   "metadata": {},
   "outputs": [],
   "source": [
    "array = [134,4,53,3,2,13,23,1,13,4344,3412,4123]"
   ]
  },
  {
   "cell_type": "code",
   "execution_count": 3,
   "id": "9b6a6101",
   "metadata": {},
   "outputs": [
    {
     "data": {
      "text/plain": [
       "[1, 2, 3, 4, 13, 13, 23, 53, 134, 3412, 4123, 4344]"
      ]
     },
     "execution_count": 3,
     "metadata": {},
     "output_type": "execute_result"
    }
   ],
   "source": [
    "mergeSort(array)"
   ]
  },
  {
   "cell_type": "code",
   "execution_count": null,
   "id": "753296e0",
   "metadata": {},
   "outputs": [],
   "source": []
  }
 ],
 "metadata": {
  "kernelspec": {
   "display_name": "Python 3 (ipykernel)",
   "language": "python",
   "name": "python3"
  },
  "language_info": {
   "codemirror_mode": {
    "name": "ipython",
    "version": 3
   },
   "file_extension": ".py",
   "mimetype": "text/x-python",
   "name": "python",
   "nbconvert_exporter": "python",
   "pygments_lexer": "ipython3",
   "version": "3.9.7"
  }
 },
 "nbformat": 4,
 "nbformat_minor": 5
}
